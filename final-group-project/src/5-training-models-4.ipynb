{
 "cells": [
  {
   "cell_type": "markdown",
   "metadata": {},
   "source": [
    "# 4th model"
   ]
  },
  {
   "cell_type": "code",
   "execution_count": null,
   "metadata": {},
   "outputs": [],
   "source": [
    "!pip3 install pandas sklearn"
   ]
  },
  {
   "cell_type": "code",
   "execution_count": 2,
   "metadata": {},
   "outputs": [],
   "source": [
    "import pandas as pd\n",
    "from sklearn.model_selection import train_test_split\n",
    "from sklearn.feature_extraction.text import TfidfVectorizer\n",
    "\n",
    "# Load the data\n",
    "emotions_train_ready = pd.read_csv('../data/emotions_train_ready_slim.csv')\n",
    "\n",
    "data = emotions_train_ready\n",
    "\n",
    "# Initialize TF-IDF Vectorizer\n",
    "tfidf_vectorizer = TfidfVectorizer(max_features=20000)  # More features for Random Forest\n",
    "\n",
    "# Fit and transform the text data\n",
    "X = tfidf_vectorizer.fit_transform(data['text'])\n",
    "\n",
    "# Convert labels to a suitable format\n",
    "y = data['label']  # Assuming labels are already in a numeric format\n",
    "\n",
    "# Split the data\n",
    "X_train, X_temp, y_train, y_temp = train_test_split(X, y, test_size=0.4, random_state=42)\n",
    "X_val, X_test, y_val, y_test = train_test_split(X_temp, y_temp, test_size=0.5, random_state=42)\n"
   ]
  },
  {
   "cell_type": "code",
   "execution_count": 3,
   "metadata": {},
   "outputs": [
    {
     "name": "stdout",
     "output_type": "stream",
     "text": [
      "              precision    recall  f1-score   support\n",
      "\n",
      "           0       0.88      0.81      0.85      2646\n",
      "           1       0.69      0.87      0.77      3996\n",
      "           2       0.80      0.51      0.63       904\n",
      "           3       0.81      0.58      0.68      1703\n",
      "           4       0.84      0.71      0.77      1031\n",
      "           5       0.67      0.33      0.44       559\n",
      "           6       0.43      0.59      0.50      1140\n",
      "\n",
      "    accuracy                           0.72     11979\n",
      "   macro avg       0.73      0.63      0.66     11979\n",
      "weighted avg       0.75      0.72      0.72     11979\n",
      "\n",
      "              precision    recall  f1-score   support\n",
      "\n",
      "           0       0.87      0.81      0.84      2638\n",
      "           1       0.68      0.86      0.76      4015\n",
      "           2       0.80      0.50      0.62       928\n",
      "           3       0.80      0.58      0.67      1713\n",
      "           4       0.84      0.73      0.78      1020\n",
      "           5       0.73      0.36      0.48       573\n",
      "           6       0.42      0.57      0.49      1093\n",
      "\n",
      "    accuracy                           0.72     11980\n",
      "   macro avg       0.73      0.63      0.66     11980\n",
      "weighted avg       0.74      0.72      0.72     11980\n",
      "\n"
     ]
    }
   ],
   "source": [
    "from sklearn.ensemble import RandomForestClassifier\n",
    "from sklearn.metrics import classification_report\n",
    "\n",
    "# Initialize the Random Forest Classifier\n",
    "rf_model = RandomForestClassifier(n_estimators=100)  # You can tune the number of trees\n",
    "\n",
    "# Train the model\n",
    "rf_model.fit(X_train, y_train)\n",
    "\n",
    "# Evaluate the model on the validation set\n",
    "y_val_pred = rf_model.predict(X_val)\n",
    "print(classification_report(y_val, y_val_pred))\n",
    "\n",
    "# Evaluate on the test set (only after finalizing the model)\n",
    "y_test_pred = rf_model.predict(X_test)\n",
    "print(classification_report(y_test, y_test_pred))\n"
   ]
  }
 ],
 "metadata": {
  "kernelspec": {
   "display_name": "Python 3",
   "language": "python",
   "name": "python3"
  },
  "language_info": {
   "codemirror_mode": {
    "name": "ipython",
    "version": 3
   },
   "file_extension": ".py",
   "mimetype": "text/x-python",
   "name": "python",
   "nbconvert_exporter": "python",
   "pygments_lexer": "ipython3",
   "version": "3.9.6"
  }
 },
 "nbformat": 4,
 "nbformat_minor": 2
}
