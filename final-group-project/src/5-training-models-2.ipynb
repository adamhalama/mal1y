{
 "cells": [
  {
   "cell_type": "markdown",
   "metadata": {},
   "source": [
    "# 1nd and 2nd model"
   ]
  },
  {
   "cell_type": "code",
   "execution_count": 40,
   "metadata": {},
   "outputs": [
    {
     "name": "stdout",
     "output_type": "stream",
     "text": [
      "\u001b[33mWARNING: Skipping tensorflow as it is not installed.\u001b[0m\n",
      "Defaulting to user installation because normal site-packages is not writeable\n",
      "Requirement already satisfied: pandas in /Users/jaa/Library/Python/3.9/lib/python/site-packages (2.1.0)\n",
      "Requirement already satisfied: tensorflow-metal in /Users/jaa/Library/Python/3.9/lib/python/site-packages (1.1.0)\n",
      "Requirement already satisfied: tensorflow-macos in /Users/jaa/Library/Python/3.9/lib/python/site-packages (2.14.0)\n",
      "Requirement already satisfied: numpy>=1.22.4 in /Users/jaa/Library/Python/3.9/lib/python/site-packages (from pandas) (1.25.2)\n",
      "Requirement already satisfied: pytz>=2020.1 in /Users/jaa/Library/Python/3.9/lib/python/site-packages (from pandas) (2023.3.post1)\n",
      "Requirement already satisfied: python-dateutil>=2.8.2 in /Users/jaa/Library/Python/3.9/lib/python/site-packages (from pandas) (2.8.2)\n",
      "Requirement already satisfied: tzdata>=2022.1 in /Users/jaa/Library/Python/3.9/lib/python/site-packages (from pandas) (2023.3)\n",
      "Requirement already satisfied: six>=1.15.0 in /Applications/Xcode.app/Contents/Developer/Library/Frameworks/Python3.framework/Versions/3.9/lib/python3.9/site-packages (from tensorflow-metal) (1.15.0)\n",
      "Requirement already satisfied: wheel~=0.35 in /Applications/Xcode.app/Contents/Developer/Library/Frameworks/Python3.framework/Versions/3.9/lib/python3.9/site-packages (from tensorflow-metal) (0.37.0)\n",
      "Requirement already satisfied: opt-einsum>=2.3.2 in /Users/jaa/Library/Python/3.9/lib/python/site-packages (from tensorflow-macos) (3.3.0)\n",
      "Requirement already satisfied: tensorflow-estimator<2.15,>=2.14.0 in /Users/jaa/Library/Python/3.9/lib/python/site-packages (from tensorflow-macos) (2.14.0)\n",
      "Requirement already satisfied: gast!=0.5.0,!=0.5.1,!=0.5.2,>=0.2.1 in /Users/jaa/Library/Python/3.9/lib/python/site-packages (from tensorflow-macos) (0.5.4)\n",
      "Requirement already satisfied: setuptools in /Applications/Xcode.app/Contents/Developer/Library/Frameworks/Python3.framework/Versions/3.9/lib/python3.9/site-packages (from tensorflow-macos) (58.0.4)\n",
      "Requirement already satisfied: astunparse>=1.6.0 in /Users/jaa/Library/Python/3.9/lib/python/site-packages (from tensorflow-macos) (1.6.3)\n",
      "Requirement already satisfied: tensorflow-io-gcs-filesystem>=0.23.1 in /Users/jaa/Library/Python/3.9/lib/python/site-packages (from tensorflow-macos) (0.34.0)\n",
      "Requirement already satisfied: typing-extensions>=3.6.6 in /Users/jaa/Library/Python/3.9/lib/python/site-packages (from tensorflow-macos) (4.8.0)\n",
      "Requirement already satisfied: absl-py>=1.0.0 in /Users/jaa/Library/Python/3.9/lib/python/site-packages (from tensorflow-macos) (2.0.0)\n",
      "Requirement already satisfied: protobuf!=4.21.0,!=4.21.1,!=4.21.2,!=4.21.3,!=4.21.4,!=4.21.5,<5.0.0dev,>=3.20.3 in /Users/jaa/Library/Python/3.9/lib/python/site-packages (from tensorflow-macos) (4.25.0)\n",
      "Requirement already satisfied: tensorboard<2.15,>=2.14 in /Users/jaa/Library/Python/3.9/lib/python/site-packages (from tensorflow-macos) (2.14.1)\n",
      "Requirement already satisfied: keras<2.15,>=2.14.0 in /Users/jaa/Library/Python/3.9/lib/python/site-packages (from tensorflow-macos) (2.14.0)\n",
      "Requirement already satisfied: libclang>=13.0.0 in /Users/jaa/Library/Python/3.9/lib/python/site-packages (from tensorflow-macos) (16.0.6)\n",
      "Requirement already satisfied: ml-dtypes==0.2.0 in /Users/jaa/Library/Python/3.9/lib/python/site-packages (from tensorflow-macos) (0.2.0)\n",
      "Requirement already satisfied: flatbuffers>=23.5.26 in /Users/jaa/Library/Python/3.9/lib/python/site-packages (from tensorflow-macos) (23.5.26)\n",
      "Requirement already satisfied: packaging in /Users/jaa/Library/Python/3.9/lib/python/site-packages (from tensorflow-macos) (23.1)\n",
      "Requirement already satisfied: h5py>=2.9.0 in /Users/jaa/Library/Python/3.9/lib/python/site-packages (from tensorflow-macos) (3.10.0)\n",
      "Requirement already satisfied: wrapt<1.15,>=1.11.0 in /Users/jaa/Library/Python/3.9/lib/python/site-packages (from tensorflow-macos) (1.14.1)\n",
      "Requirement already satisfied: termcolor>=1.1.0 in /Users/jaa/Library/Python/3.9/lib/python/site-packages (from tensorflow-macos) (2.3.0)\n",
      "Requirement already satisfied: google-pasta>=0.1.1 in /Users/jaa/Library/Python/3.9/lib/python/site-packages (from tensorflow-macos) (0.2.0)\n",
      "Requirement already satisfied: grpcio<2.0,>=1.24.3 in /Users/jaa/Library/Python/3.9/lib/python/site-packages (from tensorflow-macos) (1.59.2)\n",
      "Requirement already satisfied: werkzeug>=1.0.1 in /Users/jaa/Library/Python/3.9/lib/python/site-packages (from tensorboard<2.15,>=2.14->tensorflow-macos) (3.0.1)\n",
      "Requirement already satisfied: google-auth<3,>=1.6.3 in /Users/jaa/Library/Python/3.9/lib/python/site-packages (from tensorboard<2.15,>=2.14->tensorflow-macos) (2.23.4)\n",
      "Requirement already satisfied: google-auth-oauthlib<1.1,>=0.5 in /Users/jaa/Library/Python/3.9/lib/python/site-packages (from tensorboard<2.15,>=2.14->tensorflow-macos) (1.0.0)\n",
      "Requirement already satisfied: tensorboard-data-server<0.8.0,>=0.7.0 in /Users/jaa/Library/Python/3.9/lib/python/site-packages (from tensorboard<2.15,>=2.14->tensorflow-macos) (0.7.2)\n",
      "Requirement already satisfied: requests<3,>=2.21.0 in /Users/jaa/Library/Python/3.9/lib/python/site-packages (from tensorboard<2.15,>=2.14->tensorflow-macos) (2.31.0)\n",
      "Requirement already satisfied: markdown>=2.6.8 in /Users/jaa/Library/Python/3.9/lib/python/site-packages (from tensorboard<2.15,>=2.14->tensorflow-macos) (3.5.1)\n",
      "Requirement already satisfied: pyasn1-modules>=0.2.1 in /Users/jaa/Library/Python/3.9/lib/python/site-packages (from google-auth<3,>=1.6.3->tensorboard<2.15,>=2.14->tensorflow-macos) (0.3.0)\n",
      "Requirement already satisfied: rsa<5,>=3.1.4 in /Users/jaa/Library/Python/3.9/lib/python/site-packages (from google-auth<3,>=1.6.3->tensorboard<2.15,>=2.14->tensorflow-macos) (4.9)\n",
      "Requirement already satisfied: cachetools<6.0,>=2.0.0 in /Users/jaa/Library/Python/3.9/lib/python/site-packages (from google-auth<3,>=1.6.3->tensorboard<2.15,>=2.14->tensorflow-macos) (5.3.2)\n",
      "Requirement already satisfied: requests-oauthlib>=0.7.0 in /Users/jaa/Library/Python/3.9/lib/python/site-packages (from google-auth-oauthlib<1.1,>=0.5->tensorboard<2.15,>=2.14->tensorflow-macos) (1.3.1)\n",
      "Requirement already satisfied: importlib-metadata>=4.4 in /Users/jaa/Library/Python/3.9/lib/python/site-packages (from markdown>=2.6.8->tensorboard<2.15,>=2.14->tensorflow-macos) (6.8.0)\n",
      "Requirement already satisfied: zipp>=0.5 in /Users/jaa/Library/Python/3.9/lib/python/site-packages (from importlib-metadata>=4.4->markdown>=2.6.8->tensorboard<2.15,>=2.14->tensorflow-macos) (3.16.2)\n",
      "Requirement already satisfied: pyasn1<0.6.0,>=0.4.6 in /Users/jaa/Library/Python/3.9/lib/python/site-packages (from pyasn1-modules>=0.2.1->google-auth<3,>=1.6.3->tensorboard<2.15,>=2.14->tensorflow-macos) (0.5.0)\n",
      "Requirement already satisfied: charset-normalizer<4,>=2 in /Users/jaa/Library/Python/3.9/lib/python/site-packages (from requests<3,>=2.21.0->tensorboard<2.15,>=2.14->tensorflow-macos) (3.2.0)\n",
      "Requirement already satisfied: urllib3<3,>=1.21.1 in /Users/jaa/Library/Python/3.9/lib/python/site-packages (from requests<3,>=2.21.0->tensorboard<2.15,>=2.14->tensorflow-macos) (2.0.4)\n",
      "Requirement already satisfied: certifi>=2017.4.17 in /Users/jaa/Library/Python/3.9/lib/python/site-packages (from requests<3,>=2.21.0->tensorboard<2.15,>=2.14->tensorflow-macos) (2023.7.22)\n",
      "Requirement already satisfied: idna<4,>=2.5 in /Users/jaa/Library/Python/3.9/lib/python/site-packages (from requests<3,>=2.21.0->tensorboard<2.15,>=2.14->tensorflow-macos) (3.4)\n",
      "Requirement already satisfied: oauthlib>=3.0.0 in /Users/jaa/Library/Python/3.9/lib/python/site-packages (from requests-oauthlib>=0.7.0->google-auth-oauthlib<1.1,>=0.5->tensorboard<2.15,>=2.14->tensorflow-macos) (3.2.2)\n",
      "Requirement already satisfied: MarkupSafe>=2.1.1 in /Users/jaa/Library/Python/3.9/lib/python/site-packages (from werkzeug>=1.0.1->tensorboard<2.15,>=2.14->tensorflow-macos) (2.1.3)\n",
      "\u001b[33mWARNING: You are using pip version 21.2.4; however, version 23.3.1 is available.\n",
      "You should consider upgrading via the '/Applications/Xcode.app/Contents/Developer/usr/bin/python3 -m pip install --upgrade pip' command.\u001b[0m\n"
     ]
    }
   ],
   "source": [
    "# !pip3 install pandas tensorflow\n",
    "# !pip3 uninstall tensorflow -y\n",
    "\n",
    "!pip3 install pandas tensorflow-metal tensorflow-macos"
   ]
  },
  {
   "cell_type": "code",
   "execution_count": 31,
   "metadata": {},
   "outputs": [
    {
     "data": {
      "text/html": [
       "<div>\n",
       "<style scoped>\n",
       "    .dataframe tbody tr th:only-of-type {\n",
       "        vertical-align: middle;\n",
       "    }\n",
       "\n",
       "    .dataframe tbody tr th {\n",
       "        vertical-align: top;\n",
       "    }\n",
       "\n",
       "    .dataframe thead th {\n",
       "        text-align: right;\n",
       "    }\n",
       "</style>\n",
       "<table border=\"1\" class=\"dataframe\">\n",
       "  <thead>\n",
       "    <tr style=\"text-align: right;\">\n",
       "      <th></th>\n",
       "      <th>Unnamed: 0</th>\n",
       "      <th>text</th>\n",
       "      <th>label</th>\n",
       "    </tr>\n",
       "  </thead>\n",
       "  <tbody>\n",
       "    <tr>\n",
       "      <th>0</th>\n",
       "      <td>0</td>\n",
       "      <td>Yeah, but nobody takes McD's hamburgers seriou...</td>\n",
       "      <td>1</td>\n",
       "    </tr>\n",
       "    <tr>\n",
       "      <th>1</th>\n",
       "      <td>1</td>\n",
       "      <td>Clear your notifications, good [NAME]!!</td>\n",
       "      <td>1</td>\n",
       "    </tr>\n",
       "    <tr>\n",
       "      <th>2</th>\n",
       "      <td>2</td>\n",
       "      <td>Idaho lot rather we stop with these amas.</td>\n",
       "      <td>1</td>\n",
       "    </tr>\n",
       "    <tr>\n",
       "      <th>3</th>\n",
       "      <td>3</td>\n",
       "      <td>Are you in enough of a hurry to get in anyway?...</td>\n",
       "      <td>3</td>\n",
       "    </tr>\n",
       "    <tr>\n",
       "      <th>4</th>\n",
       "      <td>4</td>\n",
       "      <td>He's hot</td>\n",
       "      <td>6</td>\n",
       "    </tr>\n",
       "  </tbody>\n",
       "</table>\n",
       "</div>"
      ],
      "text/plain": [
       "   Unnamed: 0                                               text  label\n",
       "0           0  Yeah, but nobody takes McD's hamburgers seriou...      1\n",
       "1           1            Clear your notifications, good [NAME]!!      1\n",
       "2           2          Idaho lot rather we stop with these amas.      1\n",
       "3           3  Are you in enough of a hurry to get in anyway?...      3\n",
       "4           4                                           He's hot      6"
      ]
     },
     "execution_count": 31,
     "metadata": {},
     "output_type": "execute_result"
    }
   ],
   "source": [
    "import pandas as pd\n",
    "\n",
    "# Loading the dataset to take a peek at its structure and content\n",
    "file_path_emotions = '../data/emotions_train_ready.csv'\n",
    "\n",
    "# Reading the dataset\n",
    "emotions_data = pd.read_csv(file_path_emotions)\n",
    "emotions_data.head()"
   ]
  },
  {
   "cell_type": "markdown",
   "metadata": {},
   "source": [
    "### SVC Model"
   ]
  },
  {
   "cell_type": "code",
   "execution_count": 58,
   "metadata": {},
   "outputs": [
    {
     "name": "stdout",
     "output_type": "stream",
     "text": [
      "[LibSVM]..................*............*\n",
      "optimization finished, #iter = 30287\n",
      "obj = -4101.926029, rho = 0.658006\n",
      "nSV = 8838, nBSV = 3924\n",
      ".......*.....*\n",
      "optimization finished, #iter = 12402\n",
      "obj = -1749.927301, rho = -0.269258\n",
      "nSV = 4444, nBSV = 1553\n",
      "..........."
     ]
    }
   ],
   "source": [
    "from sklearn.model_selection import train_test_split\n",
    "from sklearn.feature_extraction.text import TfidfVectorizer\n",
    "from sklearn.svm import SVC\n",
    "from sklearn.metrics import classification_report\n",
    "\n",
    "# Preprocessing and vectorizing the text data\n",
    "tfidf_vectorizer = TfidfVectorizer(stop_words='english')\n",
    "X = tfidf_vectorizer.fit_transform(emotions_data['text'])\n",
    "y = emotions_data['label']\n",
    "\n",
    "# Splitting the data into training and testing sets\n",
    "X_train, X_test, y_train, y_test = train_test_split(X, y, test_size=0.2, random_state=42)\n",
    "\n",
    "# Training the SVM model\n",
    "svm_model = SVC(kernel='linear', verbose=True)\n",
    "svm_model.fit(X_train, y_train)\n",
    "\n",
    "# Predicting and evaluating the model on the test set\n",
    "y_pred = svm_model.predict(X_test)\n",
    "report = classification_report(y_test, y_pred)\n",
    "\n",
    "report\n"
   ]
  },
  {
   "cell_type": "code",
   "execution_count": 5,
   "metadata": {},
   "outputs": [
    {
     "ename": "NameError",
     "evalue": "name 'classification_report' is not defined",
     "output_type": "error",
     "traceback": [
      "\u001b[0;31m---------------------------------------------------------------------------\u001b[0m",
      "\u001b[0;31mNameError\u001b[0m                                 Traceback (most recent call last)",
      "\u001b[1;32m/Users/jaa/Library/Mobile Documents/com~apple~CloudDocs/Documents/VIA/7th semester/MAL1Y - Monday/mal1y/final-group-project/src/5-training-models-2.ipynb Cell 8\u001b[0m line \u001b[0;36m2\n\u001b[1;32m      <a href='vscode-notebook-cell:/Users/jaa/Library/Mobile%20Documents/com~apple~CloudDocs/Documents/VIA/7th%20semester/MAL1Y%20-%20Monday/mal1y/final-group-project/src/5-training-models-2.ipynb#X10sZmlsZQ%3D%3D?line=0'>1</a>\u001b[0m \u001b[39m## Report for SVC\u001b[39;00m\n\u001b[0;32m----> <a href='vscode-notebook-cell:/Users/jaa/Library/Mobile%20Documents/com~apple~CloudDocs/Documents/VIA/7th%20semester/MAL1Y%20-%20Monday/mal1y/final-group-project/src/5-training-models-2.ipynb#X10sZmlsZQ%3D%3D?line=1'>2</a>\u001b[0m report \u001b[39m=\u001b[39m classification_report(y_test, y_pred, output_dict\u001b[39m=\u001b[39m\u001b[39mTrue\u001b[39;00m)\n\u001b[1;32m      <a href='vscode-notebook-cell:/Users/jaa/Library/Mobile%20Documents/com~apple~CloudDocs/Documents/VIA/7th%20semester/MAL1Y%20-%20Monday/mal1y/final-group-project/src/5-training-models-2.ipynb#X10sZmlsZQ%3D%3D?line=3'>4</a>\u001b[0m report_df \u001b[39m=\u001b[39m pd\u001b[39m.\u001b[39mDataFrame(report)\u001b[39m.\u001b[39mtranspose()\n\u001b[1;32m      <a href='vscode-notebook-cell:/Users/jaa/Library/Mobile%20Documents/com~apple~CloudDocs/Documents/VIA/7th%20semester/MAL1Y%20-%20Monday/mal1y/final-group-project/src/5-training-models-2.ipynb#X10sZmlsZQ%3D%3D?line=5'>6</a>\u001b[0m \u001b[39mprint\u001b[39m(report_df)\n",
      "\u001b[0;31mNameError\u001b[0m: name 'classification_report' is not defined"
     ]
    }
   ],
   "source": [
    "## Report for SVC\n",
    "report = classification_report(y_test, y_pred, output_dict=True)\n",
    "\n",
    "report_df = pd.DataFrame(report).transpose()\n",
    "\n",
    "print(report_df)"
   ]
  },
  {
   "cell_type": "code",
   "execution_count": null,
   "metadata": {},
   "outputs": [
    {
     "data": {
      "image/png": "[encoded data removed]",
      "text/plain": [
       "<Figure size 1000x600 with 2 Axes>"
      ]
     },
     "metadata": {},
     "output_type": "display_data"
    }
   ],
   "source": [
    "# Generate a heatmap\n",
    "import seaborn as sns\n",
    "import matplotlib.pyplot as plt\n",
    "\n",
    "report_df = pd.DataFrame(report).iloc[:-1, :].T  # exclude the last row for averages\n",
    "\n",
    "plt.figure(figsize=(10, 6))\n",
    "heatmap = sns.heatmap(report_df, annot=False, fmt=\".2f\")\n",
    "\n",
    "# Manually annotate with the exact values\n",
    "for y, row in enumerate(report_df.values):\n",
    "    for x, val in enumerate(row):\n",
    "        plt.text(x + 0.5, y + 0.5, '{:0.2f}'.format(val), \n",
    "                 ha='center', va='center', \n",
    "                 color='white')\n",
    "\n",
    "# labels and title for clarity\n",
    "plt.yticks(rotation=0)\n",
    "plt.title('Classification Report')\n",
    "plt.ylabel('Metrics')\n",
    "plt.xlabel('Classes')\n",
    "\n",
    "plt.show()"
   ]
  },
  {
   "cell_type": "markdown",
   "metadata": {},
   "source": [
    "------------"
   ]
  },
  {
   "cell_type": "markdown",
   "metadata": {},
   "source": [
    "### Trying out a neural net for this task - Simple RNN"
   ]
  },
  {
   "cell_type": "code",
   "execution_count": 65,
   "metadata": {},
   "outputs": [],
   "source": [
    "import pandas as pd\n",
    "from tensorflow.keras.preprocessing.text import Tokenizer\n",
    "from tensorflow.keras.preprocessing.sequence import pad_sequences\n",
    "from sklearn.model_selection import train_test_split\n",
    "from tensorflow.keras.utils import to_categorical\n",
    "\n",
    "def tokenize_and_split(input_data):\n",
    "    data_df = input_data.copy()\n",
    "    \n",
    "    tokenizer = Tokenizer(num_words=10000)  # Adjust num_words as needed\n",
    "    tokenizer.fit_on_texts(data_df['text'])\n",
    "    sequences = tokenizer.texts_to_sequences(data_df['text'])\n",
    "\n",
    "    # Pad sequences\n",
    "    X = pad_sequences(sequences, maxlen=80)  # Adjust maxlen as needed\n",
    "\n",
    "    # One-hot encode labels\n",
    "    y = to_categorical(data_df['label'])\n",
    "\n",
    "    # Split the data\n",
    "    X_train, X_temp, y_train, y_temp = train_test_split(X, y, test_size=0.4, random_state=42)\n",
    "    X_val, X_test, y_val, y_test = train_test_split(X_temp, y_temp, test_size=0.5, random_state=42)\n",
    "    \n",
    "    return X_train, X_val, X_test, y_train, y_val, y_test\n",
    "\n",
    "X_train, X_val, X_test, y_train, y_val, y_test = tokenize_and_split(emotions_data)"
   ]
  },
  {
   "cell_type": "code",
   "execution_count": 68,
   "metadata": {},
   "outputs": [],
   "source": [
    "import tensorflow as tf\n",
    "from tensorflow.keras.models import Sequential\n",
    "from tensorflow.keras.layers import Embedding, SimpleRNN, Dense\n",
    "\n",
    "most_common_tokens = 10002\n",
    "vocab_size = most_common_tokens\n",
    "\n",
    "embedding_dim = 256\n",
    "rnn_units = 128 \n",
    "num_classes = 7  \n",
    "\n",
    "\n",
    "def create_rnn_model(vocab_size, embedding_dim, rnn_units, num_classes):\n",
    "    # Build the model\n",
    "    model = Sequential([\n",
    "        Embedding(input_dim=vocab_size, output_dim=embedding_dim, input_length=80),\n",
    "        SimpleRNN(rnn_units),\n",
    "        Dense(num_classes, activation='softmax')\n",
    "    ])\n",
    "\n",
    "    model.compile(optimizer='adam', loss='categorical_crossentropy', metrics=['accuracy'])\n",
    "    \n",
    "    return model\n",
    "\n",
    "model = create_rnn_model(vocab_size, embedding_dim, rnn_units, num_classes)"
   ]
  },
  {
   "cell_type": "code",
   "execution_count": 50,
   "metadata": {},
   "outputs": [
    {
     "name": "stdout",
     "output_type": "stream",
     "text": [
      "Training data shape: (359382, 80) (359382, 7)\n",
      "Validation data shape: (119794, 80) (119794, 7)\n",
      "Test data shape: (119795, 80) (119795, 7)\n"
     ]
    }
   ],
   "source": [
    "print(\"Training data shape:\", X_train.shape, y_train.shape)\n",
    "print(\"Validation data shape:\", X_val.shape, y_val.shape)\n",
    "print(\"Test data shape:\", X_test.shape, y_test.shape)\n"
   ]
  },
  {
   "cell_type": "code",
   "execution_count": 51,
   "metadata": {},
   "outputs": [
    {
     "data": {
      "text/plain": [
       "(array([[   0,    0,    0, ...,   12,    3,  508],\n",
       "        [   0,    0,    0, ...,   90,    8,   11],\n",
       "        [   0,    0,    0, ...,  128,   30,  412],\n",
       "        ...,\n",
       "        [   0,    0,    0, ...,   22,    2,  856],\n",
       "        [   0,    0,    0, ...,    3, 5057, 7415],\n",
       "        [   0,    0,    0, ...,  245,  211,  565]], dtype=int32),\n",
       " array([[1., 0., 0., ..., 0., 0., 0.],\n",
       "        [0., 1., 0., ..., 0., 0., 0.],\n",
       "        [0., 0., 0., ..., 0., 1., 0.],\n",
       "        ...,\n",
       "        [1., 0., 0., ..., 0., 0., 0.],\n",
       "        [0., 1., 0., ..., 0., 0., 0.],\n",
       "        [1., 0., 0., ..., 0., 0., 0.]], dtype=float32),\n",
       " (359382, 80),\n",
       " (359382, 7))"
      ]
     },
     "execution_count": 51,
     "metadata": {},
     "output_type": "execute_result"
    }
   ],
   "source": [
    "X_train, y_train, X_train.shape, y_train.shape "
   ]
  },
  {
   "cell_type": "code",
   "execution_count": 52,
   "metadata": {},
   "outputs": [
    {
     "data": {
      "text/plain": [
       "[PhysicalDevice(name='/physical_device:CPU:0', device_type='CPU')]"
      ]
     },
     "execution_count": 52,
     "metadata": {},
     "output_type": "execute_result"
    }
   ],
   "source": [
    "tf.config.list_physical_devices()"
   ]
  },
  {
   "cell_type": "code",
   "execution_count": 53,
   "metadata": {},
   "outputs": [
    {
     "name": "stdout",
     "output_type": "stream",
     "text": [
      "Epoch 1/5\n"
     ]
    },
    {
     "name": "stdout",
     "output_type": "stream",
     "text": [
      "11231/11231 [==============================] - 368s 33ms/step - loss: 1.0443 - accuracy: 0.6378 - val_loss: 0.8492 - val_accuracy: 0.7059\n",
      "Epoch 2/5\n",
      "11231/11231 [==============================] - 355s 32ms/step - loss: 0.8645 - accuracy: 0.7060 - val_loss: 0.9201 - val_accuracy: 0.6754\n",
      "Epoch 3/5\n",
      "11231/11231 [==============================] - 363s 32ms/step - loss: 0.8306 - accuracy: 0.7063 - val_loss: 0.7657 - val_accuracy: 0.7307\n",
      "Epoch 4/5\n",
      "11231/11231 [==============================] - 392s 35ms/step - loss: 0.7083 - accuracy: 0.7479 - val_loss: 0.9542 - val_accuracy: 0.6637\n",
      "Epoch 5/5\n",
      "11231/11231 [==============================] - 373s 33ms/step - loss: 0.6187 - accuracy: 0.7742 - val_loss: 0.5867 - val_accuracy: 0.7770\n"
     ]
    }
   ],
   "source": [
    "num_epochs = 5\n",
    "\n",
    "history = model.fit(X_train, y_train, epochs=num_epochs, batch_size=32, validation_data=(X_val, y_val))"
   ]
  },
  {
   "cell_type": "code",
   "execution_count": 54,
   "metadata": {},
   "outputs": [
    {
     "name": "stdout",
     "output_type": "stream",
     "text": [
      "Epoch 1/10\n",
      "11231/11231 [==============================] - 383s 34ms/step - loss: 0.5810 - accuracy: 0.7844 - val_loss: 0.6019 - val_accuracy: 0.7806\n",
      "Epoch 2/10\n",
      "11231/11231 [==============================] - 382s 34ms/step - loss: 0.6618 - accuracy: 0.7691 - val_loss: 0.6087 - val_accuracy: 0.7721\n",
      "Epoch 3/10\n",
      "11231/11231 [==============================] - 389s 35ms/step - loss: 0.5731 - accuracy: 0.7878 - val_loss: 0.7801 - val_accuracy: 0.7440\n",
      "Epoch 4/10\n",
      "11231/11231 [==============================] - 373s 33ms/step - loss: 0.5505 - accuracy: 0.7928 - val_loss: 0.5761 - val_accuracy: 0.7816\n",
      "Epoch 5/10\n",
      "11231/11231 [==============================] - 366s 33ms/step - loss: 0.5730 - accuracy: 0.7881 - val_loss: 0.6685 - val_accuracy: 0.7512\n",
      "Epoch 6/10\n",
      "11231/11231 [==============================] - 382s 34ms/step - loss: 0.6663 - accuracy: 0.7636 - val_loss: 0.7214 - val_accuracy: 0.7479\n",
      "Epoch 7/10\n",
      "11231/11231 [==============================] - 377s 34ms/step - loss: 0.6357 - accuracy: 0.7698 - val_loss: 0.6451 - val_accuracy: 0.7666\n",
      "Epoch 8/10\n",
      "11231/11231 [==============================] - 387s 34ms/step - loss: 0.6618 - accuracy: 0.7619 - val_loss: 0.6520 - val_accuracy: 0.7538\n",
      "Epoch 9/10\n",
      "11231/11231 [==============================] - 395s 35ms/step - loss: 0.5827 - accuracy: 0.7875 - val_loss: 0.5993 - val_accuracy: 0.7754\n",
      "Epoch 10/10\n",
      "11231/11231 [==============================] - 409s 36ms/step - loss: 0.5885 - accuracy: 0.7844 - val_loss: 0.6370 - val_accuracy: 0.7592\n"
     ]
    }
   ],
   "source": [
    "num_epochs = 10\n",
    "\n",
    "history_continued = model.fit(X_train, y_train, epochs=num_epochs, batch_size=32, validation_data=(X_val, y_val))"
   ]
  },
  {
   "cell_type": "code",
   "execution_count": 55,
   "metadata": {},
   "outputs": [
    {
     "name": "stdout",
     "output_type": "stream",
     "text": [
      "3744/3744 [==============================] - 32s 9ms/step - loss: 0.6337 - accuracy: 0.7587\n",
      "Test Accuracy: 0.758704423904419\n"
     ]
    }
   ],
   "source": [
    "test_loss, test_accuracy = model.evaluate(X_test, y_test)\n",
    "print(f\"Test Accuracy: {test_accuracy}\")\n"
   ]
  },
  {
   "cell_type": "code",
   "execution_count": 56,
   "metadata": {},
   "outputs": [
    {
     "name": "stdout",
     "output_type": "stream",
     "text": [
      "3744/3744 [==============================] - 33s 9ms/step\n"
     ]
    }
   ],
   "source": [
    "import numpy as np\n",
    "\n",
    "y_pred = model.predict(X_test)\n",
    "y_pred_classes = np.argmax(y_pred, axis=1)\n",
    "y_true_classes = np.argmax(y_test, axis=1)"
   ]
  },
  {
   "cell_type": "code",
   "execution_count": 57,
   "metadata": {},
   "outputs": [
    {
     "name": "stdout",
     "output_type": "stream",
     "text": [
      "              precision    recall  f1-score   support\n",
      "\n",
      "           0       0.92      0.89      0.91     26613\n",
      "           1       0.85      0.82      0.83     40018\n",
      "           2       0.72      0.59      0.65      8978\n",
      "           3       0.69      0.74      0.71     17162\n",
      "           4       0.86      0.79      0.83     10097\n",
      "           5       0.47      0.44      0.45      5908\n",
      "           6       0.39      0.54      0.45     11019\n",
      "\n",
      "    accuracy                           0.76    119795\n",
      "   macro avg       0.70      0.69      0.69    119795\n",
      "weighted avg       0.77      0.76      0.76    119795\n",
      "\n"
     ]
    }
   ],
   "source": [
    "from sklearn.metrics import classification_report\n",
    "\n",
    "report = classification_report(y_true_classes, y_pred_classes)\n",
    "print(report)"
   ]
  },
  {
   "cell_type": "code",
   "execution_count": 62,
   "metadata": {},
   "outputs": [
    {
     "name": "stdout",
     "output_type": "stream",
     "text": [
      "label\n",
      "1    199014\n",
      "0    132946\n",
      "3     85314\n",
      "6     55298\n",
      "4     50753\n",
      "2     45844\n",
      "5     29802\n",
      "Name: count, dtype: int64\n",
      "label\n",
      "1    33.225983\n",
      "0    22.195732\n",
      "3    14.243427\n",
      "6     9.232166\n",
      "4     8.473365\n",
      "2     7.653793\n",
      "5     4.975533\n",
      "Name: count, dtype: float64\n"
     ]
    },
    {
     "name": "stderr",
     "output_type": "stream",
     "text": [
      "/Users/jaa/Library/Python/3.9/lib/python/site-packages/seaborn/_oldcore.py:1498: FutureWarning: is_categorical_dtype is deprecated and will be removed in a future version. Use isinstance(dtype, CategoricalDtype) instead\n",
      "  if pd.api.types.is_categorical_dtype(vector):\n",
      "/Users/jaa/Library/Python/3.9/lib/python/site-packages/seaborn/_oldcore.py:1498: FutureWarning: is_categorical_dtype is deprecated and will be removed in a future version. Use isinstance(dtype, CategoricalDtype) instead\n",
      "  if pd.api.types.is_categorical_dtype(vector):\n",
      "/Users/jaa/Library/Python/3.9/lib/python/site-packages/seaborn/_oldcore.py:1498: FutureWarning: is_categorical_dtype is deprecated and will be removed in a future version. Use isinstance(dtype, CategoricalDtype) instead\n",
      "  if pd.api.types.is_categorical_dtype(vector):\n"
     ]
    },
    {
     "data": {
      "image/png": "[encoded data removed]",
      "text/plain": [
       "<Figure size 640x480 with 1 Axes>"
      ]
     },
     "metadata": {},
     "output_type": "display_data"
    }
   ],
   "source": [
    "import matplotlib.pyplot as plt\n",
    "import seaborn as sns\n",
    "\n",
    "data = emotions_data\n",
    "\n",
    "label_counts = data['label'].value_counts()\n",
    "print(label_counts)\n",
    "\n",
    "total_count = len(data)\n",
    "label_percentages = (label_counts / total_count) * 100\n",
    "print(label_percentages)\n",
    "\n",
    "sns.barplot(x=label_percentages.index, y=label_percentages.values)\n",
    "plt.title('Percentage Distribution of Labels')\n",
    "plt.xlabel('Label')\n",
    "plt.ylabel('Percentage (%)')\n",
    "plt.show()"
   ]
  },
  {
   "cell_type": "code",
   "execution_count": 63,
   "metadata": {},
   "outputs": [],
   "source": [
    "import pandas as pd\n",
    "from sklearn.utils import resample\n",
    "\n",
    "# Desired size for each class - set this to the size of the smallest/largest class or a specific number\n",
    "desired_size = data['label'].value_counts().min()  # For undersampling to the size of the smallest class\n",
    "# desired_size = data['label'].value_counts().max()  # For oversampling to the size of the largest class\n",
    "\n",
    "# Resample each class\n",
    "resampled_data = pd.DataFrame()\n",
    "for label in data['label'].unique():\n",
    "    class_data = data[data['label'] == label]\n",
    "    resampled_class_data = resample(class_data,\n",
    "                                    replace=class_data.shape[0] < desired_size,  # Oversample if class size is smaller\n",
    "                                    n_samples=desired_size,\n",
    "                                    random_state=42)\n",
    "    resampled_data = pd.concat([resampled_data, resampled_class_data])\n",
    "\n",
    "# Shuffle the resampled data\n",
    "resampled_data = resampled_data.sample(frac=1, random_state=42).reset_index(drop=True)\n",
    "\n",
    "X_train, X_val, X_test, y_train, y_val, y_test = tokenize_and_split(resampled_data)\n"
   ]
  },
  {
   "cell_type": "code",
   "execution_count": 64,
   "metadata": {},
   "outputs": [
    {
     "name": "stdout",
     "output_type": "stream",
     "text": [
      "label\n",
      "1    29802\n",
      "2    29802\n",
      "3    29802\n",
      "0    29802\n",
      "4    29802\n",
      "5    29802\n",
      "6    29802\n",
      "Name: count, dtype: int64\n",
      "label\n",
      "1    14.285714\n",
      "2    14.285714\n",
      "3    14.285714\n",
      "0    14.285714\n",
      "4    14.285714\n",
      "5    14.285714\n",
      "6    14.285714\n",
      "Name: count, dtype: float64\n"
     ]
    },
    {
     "name": "stderr",
     "output_type": "stream",
     "text": [
      "/Users/jaa/Library/Python/3.9/lib/python/site-packages/seaborn/_oldcore.py:1498: FutureWarning: is_categorical_dtype is deprecated and will be removed in a future version. Use isinstance(dtype, CategoricalDtype) instead\n",
      "  if pd.api.types.is_categorical_dtype(vector):\n",
      "/Users/jaa/Library/Python/3.9/lib/python/site-packages/seaborn/_oldcore.py:1498: FutureWarning: is_categorical_dtype is deprecated and will be removed in a future version. Use isinstance(dtype, CategoricalDtype) instead\n",
      "  if pd.api.types.is_categorical_dtype(vector):\n",
      "/Users/jaa/Library/Python/3.9/lib/python/site-packages/seaborn/_oldcore.py:1498: FutureWarning: is_categorical_dtype is deprecated and will be removed in a future version. Use isinstance(dtype, CategoricalDtype) instead\n",
      "  if pd.api.types.is_categorical_dtype(vector):\n"
     ]
    },
    {
     "data": {
      "image/png": "[encoded data removed]",
      "text/plain": [
       "<Figure size 640x480 with 1 Axes>"
      ]
     },
     "metadata": {},
     "output_type": "display_data"
    }
   ],
   "source": [
    "import matplotlib.pyplot as plt\n",
    "import seaborn as sns\n",
    "\n",
    "data = resampled_data\n",
    "\n",
    "label_counts = data['label'].value_counts()\n",
    "print(label_counts)\n",
    "\n",
    "total_count = len(data)\n",
    "label_percentages = (label_counts / total_count) * 100\n",
    "print(label_percentages)\n",
    "\n",
    "sns.barplot(x=label_percentages.index, y=label_percentages.values)\n",
    "plt.title('Percentage Distribution of Labels')\n",
    "plt.xlabel('Label')\n",
    "plt.ylabel('Percentage (%)')\n",
    "plt.show()"
   ]
  },
  {
   "cell_type": "code",
   "execution_count": 73,
   "metadata": {},
   "outputs": [],
   "source": [
    "model = create_rnn_model(vocab_size, embedding_dim, rnn_units, num_classes)"
   ]
  },
  {
   "cell_type": "code",
   "execution_count": 74,
   "metadata": {},
   "outputs": [
    {
     "name": "stdout",
     "output_type": "stream",
     "text": [
      "Epoch 1/5\n",
      "3912/3912 [==============================] - 132s 34ms/step - loss: 1.3299 - accuracy: 0.5118 - val_loss: 1.3953 - val_accuracy: 0.5470\n",
      "Epoch 2/5\n",
      "3912/3912 [==============================] - 130s 33ms/step - loss: 1.1586 - accuracy: 0.5884 - val_loss: 0.9561 - val_accuracy: 0.6709\n",
      "Epoch 3/5\n",
      "3912/3912 [==============================] - ETA: 0s - loss: 1.1393 - accuracy: 0.5931"
     ]
    }
   ],
   "source": [
    "num_epochs = 5\n",
    "\n",
    "history = model.fit(X_train, y_train, epochs=num_epochs, batch_size=32, validation_data=(X_val, y_val))"
   ]
  }
 ],
 "metadata": {
  "kernelspec": {
   "display_name": "Python 3",
   "language": "python",
   "name": "python3"
  },
  "language_info": {
   "codemirror_mode": {
    "name": "ipython",
    "version": 3
   },
   "file_extension": ".py",
   "mimetype": "text/x-python",
   "name": "python",
   "nbconvert_exporter": "python",
   "pygments_lexer": "ipython3",
   "version": "3.9.6"
  }
 },
 "nbformat": 4,
 "nbformat_minor": 2
}
