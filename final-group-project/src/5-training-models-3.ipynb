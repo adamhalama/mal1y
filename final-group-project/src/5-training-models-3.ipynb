{
 "cells": [
  {
   "cell_type": "markdown",
   "metadata": {},
   "source": [
    "# 3rd model"
   ]
  },
  {
   "cell_type": "code",
   "execution_count": null,
   "metadata": {},
   "outputs": [],
   "source": [
    "!pip3 install pandas sklearn"
   ]
  },
  {
   "cell_type": "code",
   "execution_count": 1,
   "metadata": {},
   "outputs": [],
   "source": [
    "import pandas as pd\n",
    "from sklearn.model_selection import train_test_split\n",
    "from sklearn.feature_extraction.text import TfidfVectorizer\n",
    "\n",
    "# Load the data\n",
    "emotions_train_ready = pd.read_csv('../data/emotions_train_ready_slim.csv')\n",
    "\n",
    "data = emotions_train_ready\n",
    "\n",
    "# Initialize TF-IDF Vectorizer\n",
    "tfidf_vectorizer = TfidfVectorizer(max_features=10000)  # You can adjust max_features based on your dataset size\n",
    "\n",
    "# Fit and transform the text data\n",
    "X = tfidf_vectorizer.fit_transform(data['text'])\n",
    "\n",
    "# Convert labels to a suitable format if necessary\n",
    "y = data['label']  # Assuming labels are already in a numeric format\n",
    "\n",
    "# Split the data into train, validation, and test sets\n",
    "X_train, X_temp, y_train, y_temp = train_test_split(X, y, test_size=0.4, random_state=42)\n",
    "X_val, X_test, y_val, y_test = train_test_split(X_temp, y_temp, test_size=0.5, random_state=42)\n"
   ]
  },
  {
   "cell_type": "code",
   "execution_count": 2,
   "metadata": {},
   "outputs": [
    {
     "name": "stdout",
     "output_type": "stream",
     "text": [
      "              precision    recall  f1-score   support\n",
      "\n",
      "           0       0.87      0.87      0.87      2646\n",
      "           1       0.74      0.88      0.81      3996\n",
      "           2       0.80      0.55      0.65       904\n",
      "           3       0.78      0.65      0.71      1703\n",
      "           4       0.85      0.74      0.79      1031\n",
      "           5       0.61      0.31      0.41       559\n",
      "           6       0.43      0.54      0.48      1140\n",
      "\n",
      "    accuracy                           0.75     11979\n",
      "   macro avg       0.73      0.65      0.67     11979\n",
      "weighted avg       0.76      0.75      0.74     11979\n",
      "\n",
      "              precision    recall  f1-score   support\n",
      "\n",
      "           0       0.87      0.85      0.86      2638\n",
      "           1       0.73      0.87      0.80      4015\n",
      "           2       0.80      0.52      0.63       928\n",
      "           3       0.77      0.66      0.71      1713\n",
      "           4       0.87      0.73      0.79      1020\n",
      "           5       0.66      0.34      0.44       573\n",
      "           6       0.43      0.54      0.48      1093\n",
      "\n",
      "    accuracy                           0.74     11980\n",
      "   macro avg       0.73      0.64      0.67     11980\n",
      "weighted avg       0.75      0.74      0.74     11980\n",
      "\n"
     ]
    }
   ],
   "source": [
    "from sklearn.linear_model import LogisticRegression\n",
    "from sklearn.metrics import classification_report\n",
    "\n",
    "# Initialize the Logistic Regression model\n",
    "model = LogisticRegression(max_iter=1000)  # Increase max_iter if the model doesn't converge\n",
    "\n",
    "# Train the model\n",
    "model.fit(X_train, y_train)\n",
    "\n",
    "# Evaluate the model on the validation set\n",
    "y_val_pred = model.predict(X_val)\n",
    "print(classification_report(y_val, y_val_pred))\n",
    "\n",
    "# Evaluate on the test set (only after finalizing the model)\n",
    "y_test_pred = model.predict(X_test)\n",
    "print(classification_report(y_test, y_test_pred))\n"
   ]
  }
 ],
 "metadata": {
  "kernelspec": {
   "display_name": "Python 3",
   "language": "python",
   "name": "python3"
  },
  "language_info": {
   "codemirror_mode": {
    "name": "ipython",
    "version": 3
   },
   "file_extension": ".py",
   "mimetype": "text/x-python",
   "name": "python",
   "nbconvert_exporter": "python",
   "pygments_lexer": "ipython3",
   "version": "3.9.6"
  }
 },
 "nbformat": 4,
 "nbformat_minor": 2
}
