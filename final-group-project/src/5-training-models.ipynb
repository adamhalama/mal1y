{
 "cells": [
  {
   "cell_type": "markdown",
   "metadata": {},
   "source": [
    "### 5. Short-list promising models\n",
    "We expect you to do some additional research and train at **least one model per team member**.\n",
    "\n",
    "1. Train mainly quick and dirty models from different categories (e.g. linear, SVM, Random Forests etc) using default parameters\n",
    "2. Measure and compare their performance\n",
    "3. Analyse the most significant variables for each algorithm\n",
    "4. Analyse the types of errors the models make\n",
    "5. Have a quick round of feature selection and engineering if necessary\n",
    "6. Have one or two more quick iterations of the five previous steps\n",
    "7. Short-list the top three to five most promising models, preferring models that make different types of errors"
   ]
  },
  {
   "cell_type": "code",
   "execution_count": 1,
   "metadata": {},
   "outputs": [
    {
     "name": "stdout",
     "output_type": "stream",
     "text": [
      "Defaulting to user installation because normal site-packages is not writeable\n",
      "Requirement already satisfied: pandas in /Users/jaa/Library/Python/3.9/lib/python/site-packages (2.1.0)\n",
      "Requirement already satisfied: numpy>=1.22.4 in /Users/jaa/Library/Python/3.9/lib/python/site-packages (from pandas) (1.25.2)\n",
      "Requirement already satisfied: tzdata>=2022.1 in /Users/jaa/Library/Python/3.9/lib/python/site-packages (from pandas) (2023.3)\n",
      "Requirement already satisfied: python-dateutil>=2.8.2 in /Users/jaa/Library/Python/3.9/lib/python/site-packages (from pandas) (2.8.2)\n",
      "Requirement already satisfied: pytz>=2020.1 in /Users/jaa/Library/Python/3.9/lib/python/site-packages (from pandas) (2023.3.post1)\n",
      "Requirement already satisfied: six>=1.5 in /Applications/Xcode.app/Contents/Developer/Library/Frameworks/Python3.framework/Versions/3.9/lib/python3.9/site-packages (from python-dateutil>=2.8.2->pandas) (1.15.0)\n",
      "\u001b[33mWARNING: You are using pip version 21.2.4; however, version 23.3.1 is available.\n",
      "You should consider upgrading via the '/Applications/Xcode.app/Contents/Developer/usr/bin/python3 -m pip install --upgrade pip' command.\u001b[0m\n"
     ]
    }
   ],
   "source": [
    "# installing dependencies\n",
    "!pip3 install pandas"
   ]
  },
  {
   "cell_type": "code",
   "execution_count": 4,
   "metadata": {},
   "outputs": [],
   "source": [
    "# importing the data as dataframes\n",
    "import pandas as pd\n",
    "\n",
    "emotions_df_train_ready = pd.read_csv('../exports/merged_emotions_scrambled_train_ready.csv')\n",
    "\n",
    "pd.set_option('display.max_columns', None)"
   ]
  },
  {
   "cell_type": "markdown",
   "metadata": {},
   "source": [
    "##### just to not forget the mapping\n",
    "\n",
    "- 0: 'sadness'\n",
    "- 1: 'joy'\n",
    "- 2: 'love'\n",
    "- 3: 'anger'\n",
    "- 4: 'fear'\n",
    "- 5: 'surprise'\n",
    "- 6: 'neutral'"
   ]
  },
  {
   "cell_type": "code",
   "execution_count": 5,
   "metadata": {},
   "outputs": [
    {
     "data": {
      "text/plain": [
       "Unnamed: 0  text                                                                                                                                                                                                            label\n",
       "15          [NAME] is always the dirtiest psychopath                                                                                                                                                                        3        1\n",
       "400306      i have found the more i suppress the vampire inside me the more human emotions i feel the days i don t feel like feeling anymore are the days i m dangerous                                                     3        1\n",
       "400224      i describe his gentle nature and how being in his presence made me feel more tranquil                                                                                                                           1        1\n",
       "400225      Man, what a very tolerant person he is.                                                                                                                                                                         6        1\n",
       "400234      i dont recall just now yet vividly recall looking at you as you said it and you i think looking back at me and my feeling very sympathetic or maybe empathetic is the better word of course you needed a space  2        1\n",
       "                                                                                                                                                                                                                                    ..\n",
       "200306      i know what that feels like and i hate it so i try to be considerate and listen to them                                                                                                                         2        1\n",
       "200307      sweet home alabama                                                                                                                                                                                              1        1\n",
       "200308      i am seriously at a point where i feel that nothing i do is worthwhile and i figure if i can feel this way i m betting plenty of other people have those feelings at one point or another                       1        1\n",
       "200320      i could feel my etheric hands plunge into this rich soil sending healing and nurturing                                                                                                                          1        1\n",
       "598922      The crime here is using the shaker parmesan crap.                                                                                                                                                               6        1\n",
       "Name: count, Length: 59897, dtype: int64"
      ]
     },
     "execution_count": 5,
     "metadata": {},
     "output_type": "execute_result"
    }
   ],
   "source": [
    "emotions_df_train_ready.value_counts()"
   ]
  },
  {
   "cell_type": "code",
   "execution_count": null,
   "metadata": {},
   "outputs": [],
   "source": []
  }
 ],
 "metadata": {
  "kernelspec": {
   "display_name": "Python 3",
   "language": "python",
   "name": "python3"
  },
  "language_info": {
   "codemirror_mode": {
    "name": "ipython",
    "version": 3
   },
   "file_extension": ".py",
   "mimetype": "text/x-python",
   "name": "python",
   "nbconvert_exporter": "python",
   "pygments_lexer": "ipython3",
   "version": "3.9.6"
  }
 },
 "nbformat": 4,
 "nbformat_minor": 2
}
